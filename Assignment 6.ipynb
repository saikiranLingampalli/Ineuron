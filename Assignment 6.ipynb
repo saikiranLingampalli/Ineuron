{
 "cells": [
  {
   "cell_type": "markdown",
   "id": "7ad7f9b3",
   "metadata": {},
   "source": [
    "### 1. What are escape characters, and how do you use them?"
   ]
  },
  {
   "cell_type": "code",
   "execution_count": 45,
   "id": "8a66e181",
   "metadata": {},
   "outputs": [
    {
     "name": "stdout",
     "output_type": "stream",
     "text": [
      "The code is in \"python\" language\n"
     ]
    }
   ],
   "source": [
    "string = \"The code is in \\\"python\\\" language\"\n",
    "print(string)"
   ]
  },
  {
   "cell_type": "markdown",
   "id": "37b29bee",
   "metadata": {},
   "source": [
    "### 2. What do the escape characters n and t stand for?"
   ]
  },
  {
   "cell_type": "markdown",
   "id": "51576b0a",
   "metadata": {},
   "source": [
    "#### escape character n stands for new line\n",
    "#### escape character t stands for tab "
   ]
  },
  {
   "cell_type": "markdown",
   "id": "ad879372",
   "metadata": {},
   "source": [
    "### 3. What is the way to include backslash characters in a string?"
   ]
  },
  {
   "cell_type": "code",
   "execution_count": 46,
   "id": "550de0ae",
   "metadata": {},
   "outputs": [
    {
     "name": "stdout",
     "output_type": "stream",
     "text": [
      "The code was written in \\ python\n"
     ]
    }
   ],
   "source": [
    "string_data = \"The code was written in \\ python\"\n",
    "print(string_data)"
   ]
  },
  {
   "cell_type": "markdown",
   "id": "309ade9c",
   "metadata": {},
   "source": [
    "### 4. The string \"Howl's Moving Castle\" is a correct value. Why isn't the single quote character in the word Howl's not escaped a problem?"
   ]
  },
  {
   "cell_type": "code",
   "execution_count": 47,
   "id": "eca154b7",
   "metadata": {},
   "outputs": [
    {
     "name": "stdout",
     "output_type": "stream",
     "text": [
      "Howl's Moving Castle\n"
     ]
    }
   ],
   "source": [
    "str_data = \"Howl's Moving Castle\"\n",
    "print(str_data)"
   ]
  },
  {
   "cell_type": "markdown",
   "id": "309559e0",
   "metadata": {},
   "source": [
    "#### because the single is also considered as a string"
   ]
  },
  {
   "cell_type": "markdown",
   "id": "47a86fb8",
   "metadata": {},
   "source": [
    "### 5. How do you write a string of newlines if you don't want to use the n character?"
   ]
  },
  {
   "cell_type": "code",
   "execution_count": 48,
   "id": "113fb21a",
   "metadata": {},
   "outputs": [
    {
     "name": "stdout",
     "output_type": "stream",
     "text": [
      "Howl's Moving Castle \n",
      "Howl's Moving Castle\n"
     ]
    }
   ],
   "source": [
    "new_line_string = \"Howl's Moving Castle \"\n",
    "next_line_string = \"Howl's Moving Castle\"\n",
    "print(new_line_string)\n",
    "print(next_line_string)"
   ]
  },
  {
   "cell_type": "markdown",
   "id": "82aa3eaa",
   "metadata": {},
   "source": [
    "### 6. What are the values of the given expressions?\\\n",
    "### 'Hello, world!'[1]\\\n",
    "### 'Hello, world!'[0:5]\\\n",
    "### 'Hello, world!'[:5]\\\n",
    "### 'Hello, world!'[3:]"
   ]
  },
  {
   "cell_type": "code",
   "execution_count": 49,
   "id": "a716f0e5",
   "metadata": {},
   "outputs": [
    {
     "data": {
      "text/plain": [
       "'e'"
      ]
     },
     "execution_count": 49,
     "metadata": {},
     "output_type": "execute_result"
    }
   ],
   "source": [
    "'Hello, world!'[1]"
   ]
  },
  {
   "cell_type": "code",
   "execution_count": 50,
   "id": "f75de346",
   "metadata": {},
   "outputs": [
    {
     "data": {
      "text/plain": [
       "'Hello'"
      ]
     },
     "execution_count": 50,
     "metadata": {},
     "output_type": "execute_result"
    }
   ],
   "source": [
    "'Hello, world!'[0:5]"
   ]
  },
  {
   "cell_type": "code",
   "execution_count": 51,
   "id": "e5ec3d65",
   "metadata": {},
   "outputs": [
    {
     "data": {
      "text/plain": [
       "'Hello'"
      ]
     },
     "execution_count": 51,
     "metadata": {},
     "output_type": "execute_result"
    }
   ],
   "source": [
    "'Hello, world!'[:5]"
   ]
  },
  {
   "cell_type": "code",
   "execution_count": 52,
   "id": "675bc02e",
   "metadata": {},
   "outputs": [
    {
     "data": {
      "text/plain": [
       "'lo, world!'"
      ]
     },
     "execution_count": 52,
     "metadata": {},
     "output_type": "execute_result"
    }
   ],
   "source": [
    "'Hello, world!'[3:]"
   ]
  },
  {
   "cell_type": "markdown",
   "id": "d5f56907",
   "metadata": {},
   "source": [
    "### 7. What are the values of the following expressions?\\\n",
    "### 'Hello'.upper()\\\n",
    "### 'Hello'.upper().isupper()\\\n",
    "### 'Hello'.upper().lower()"
   ]
  },
  {
   "cell_type": "code",
   "execution_count": 53,
   "id": "41f848fe",
   "metadata": {},
   "outputs": [
    {
     "data": {
      "text/plain": [
       "'HELLO'"
      ]
     },
     "execution_count": 53,
     "metadata": {},
     "output_type": "execute_result"
    }
   ],
   "source": [
    "'Hello'.upper()"
   ]
  },
  {
   "cell_type": "code",
   "execution_count": 54,
   "id": "bf63c99f",
   "metadata": {},
   "outputs": [
    {
     "data": {
      "text/plain": [
       "True"
      ]
     },
     "execution_count": 54,
     "metadata": {},
     "output_type": "execute_result"
    }
   ],
   "source": [
    "'Hello'.upper().isupper()"
   ]
  },
  {
   "cell_type": "code",
   "execution_count": 55,
   "id": "32b4348b",
   "metadata": {},
   "outputs": [
    {
     "data": {
      "text/plain": [
       "'hello'"
      ]
     },
     "execution_count": 55,
     "metadata": {},
     "output_type": "execute_result"
    }
   ],
   "source": [
    "'Hello'.upper().lower()"
   ]
  },
  {
   "cell_type": "markdown",
   "id": "cdc3fdac",
   "metadata": {},
   "source": [
    "### 8. What are the values of the following expressions?\\\n",
    "### 'Remember, remember, the fifth of July.'.split()\\\n",
    "### '-'.join('There can only one.'.split())"
   ]
  },
  {
   "cell_type": "code",
   "execution_count": 56,
   "id": "4c38a6ad",
   "metadata": {},
   "outputs": [
    {
     "data": {
      "text/plain": [
       "['Remember,', 'remember,', 'the', 'fifth', 'of', 'July.']"
      ]
     },
     "execution_count": 56,
     "metadata": {},
     "output_type": "execute_result"
    }
   ],
   "source": [
    "'Remember, remember, the fifth of July.'.split()"
   ]
  },
  {
   "cell_type": "code",
   "execution_count": 57,
   "id": "9b0f005d",
   "metadata": {},
   "outputs": [
    {
     "data": {
      "text/plain": [
       "'There-can-only-one.'"
      ]
     },
     "execution_count": 57,
     "metadata": {},
     "output_type": "execute_result"
    }
   ],
   "source": [
    "'-'.join('There can only one.'.split())"
   ]
  },
  {
   "cell_type": "markdown",
   "id": "63264fe9",
   "metadata": {},
   "source": [
    "### 9. What are the methods for right-justifying, left-justifying, and centering a string?"
   ]
  },
  {
   "cell_type": "code",
   "execution_count": 58,
   "id": "ed5239a5",
   "metadata": {},
   "outputs": [
    {
     "name": "stdout",
     "output_type": "stream",
     "text": [
      " data\n",
      "data \n",
      "data\n"
     ]
    }
   ],
   "source": [
    "string_data = \" data \"\n",
    "print(string_data.rstrip())\n",
    "print(string_data.lstrip())\n",
    "print(string_data.strip())"
   ]
  },
  {
   "cell_type": "markdown",
   "id": "3205665f",
   "metadata": {},
   "source": [
    "### 10. What is the best way to remove whitespace characters from the start or end?"
   ]
  },
  {
   "cell_type": "code",
   "execution_count": 59,
   "id": "79322019",
   "metadata": {},
   "outputs": [
    {
     "name": "stdout",
     "output_type": "stream",
     "text": [
      "string data\n"
     ]
    }
   ],
   "source": [
    "remove_space = \" string data\"\n",
    "print(remove_space.strip())"
   ]
  },
  {
   "cell_type": "code",
   "execution_count": null,
   "id": "63d494e1",
   "metadata": {},
   "outputs": [],
   "source": []
  }
 ],
 "metadata": {
  "kernelspec": {
   "display_name": "Python 3 (ipykernel)",
   "language": "python",
   "name": "python3"
  },
  "language_info": {
   "codemirror_mode": {
    "name": "ipython",
    "version": 3
   },
   "file_extension": ".py",
   "mimetype": "text/x-python",
   "name": "python",
   "nbconvert_exporter": "python",
   "pygments_lexer": "ipython3",
   "version": "3.8.10"
  }
 },
 "nbformat": 4,
 "nbformat_minor": 5
}
