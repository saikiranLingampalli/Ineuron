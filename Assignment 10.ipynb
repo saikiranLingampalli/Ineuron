{
 "cells": [
  {
   "cell_type": "markdown",
   "id": "54f3120e",
   "metadata": {},
   "source": [
    "### 1. How do you distinguish between shutil.copy() and shutil.copytree()?"
   ]
  },
  {
   "cell_type": "markdown",
   "id": "18afb7ec",
   "metadata": {},
   "source": [
    "shutil.copy() :- will copy a single file \\\n",
    "shutil.copytree() :- will copy an entire folder and every folder and file contained in it"
   ]
  },
  {
   "cell_type": "markdown",
   "id": "925ba12f",
   "metadata": {},
   "source": [
    "### 2. What function is used to rename files??"
   ]
  },
  {
   "cell_type": "markdown",
   "id": "5e7bef2d",
   "metadata": {},
   "source": [
    "To rename files in Python, use the rename() method of the os module."
   ]
  },
  {
   "cell_type": "markdown",
   "id": "b1a2fb4a",
   "metadata": {},
   "source": [
    "import os \\\n",
    "os.rename()"
   ]
  },
  {
   "cell_type": "markdown",
   "id": "a27a4a25",
   "metadata": {},
   "source": [
    "### 3. What is the difference between the delete functions in the send2trash and shutil modules?"
   ]
  },
  {
   "cell_type": "markdown",
   "id": "d643780e",
   "metadata": {},
   "source": [
    "The send2trash functions will move a file or folder to the recycle bin, while shutil functions will permanently delete files and folders."
   ]
  },
  {
   "cell_type": "markdown",
   "id": "c51a782e",
   "metadata": {},
   "source": [
    "### 4. ZipFile objects have a close() method just like File objects’ close() method. What ZipFile method is equivalent to File objects’ open() method?"
   ]
  },
  {
   "cell_type": "markdown",
   "id": "95c011df",
   "metadata": {},
   "source": [
    "The zipfile.ZipFile() function is equivalent to the open() function; the first argument is the filename, and the second argument is the mode to open the ZIP file in (read, write, or append)."
   ]
  },
  {
   "cell_type": "markdown",
   "id": "ae4078ea",
   "metadata": {},
   "source": [
    "import zipfile \\\n",
    "zipfile.ZipFile()"
   ]
  },
  {
   "cell_type": "markdown",
   "id": "8ddb1793",
   "metadata": {},
   "source": [
    "### 5. Create a programme that searches a folder tree for files with a certain file extension (such as .pdf or .jpg). Copy these files from whatever location they are in to a new folder."
   ]
  },
  {
   "cell_type": "markdown",
   "id": "b5d09ee5",
   "metadata": {},
   "source": [
    "import os \\\n",
    "import shutil\n",
    "\n",
    "def get_files_recursively(start_directory, filter_extension=None): \\\n",
    "    for root, _, files in os.walk(start_directory): \\\n",
    "        for file in files: \\\n",
    "            if filter_extension is None or file.lower().endswith(filter_extension): \\\n",
    "                yield os.path.join(root, file) \\\n",
    "\n",
    "def selective_copy(source, target, file_extension=None): \\\n",
    "    for file in get_files_recursively(source, file_extension): \\\n",
    "        print(file) \\\n",
    "        shutil.copy(file, target) \\\n",
    "        print(\"The following file has been copied\", file) \\ \n",
    "\n",
    "if __name__ == \"__main__\": \\\n",
    "    selective_copy(source,destination,\".docx\")"
   ]
  },
  {
   "cell_type": "code",
   "execution_count": null,
   "id": "913b2ecf",
   "metadata": {},
   "outputs": [],
   "source": []
  }
 ],
 "metadata": {
  "kernelspec": {
   "display_name": "Python 3 (ipykernel)",
   "language": "python",
   "name": "python3"
  },
  "language_info": {
   "codemirror_mode": {
    "name": "ipython",
    "version": 3
   },
   "file_extension": ".py",
   "mimetype": "text/x-python",
   "name": "python",
   "nbconvert_exporter": "python",
   "pygments_lexer": "ipython3",
   "version": "3.8.10"
  }
 },
 "nbformat": 4,
 "nbformat_minor": 5
}
