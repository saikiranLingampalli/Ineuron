{
 "cells": [
  {
   "cell_type": "markdown",
   "id": "85042796",
   "metadata": {},
   "source": [
    "### 3. What do the functions os.getcwd() and os.chdir() do?"
   ]
  },
  {
   "cell_type": "markdown",
   "id": "09a5dea0",
   "metadata": {},
   "source": [
    "os.getcwd() : - Return a unicode string representing the current working directory \\\n",
    "os.chdir() : - Change the current working directory to the specified path."
   ]
  },
  {
   "cell_type": "markdown",
   "id": "db86dd4e",
   "metadata": {},
   "source": [
    "### 5. In C:\\bacon\\eggs\\spam.txt, which part is the dir name, and which part is the base name?"
   ]
  },
  {
   "cell_type": "markdown",
   "id": "5180bbcb",
   "metadata": {},
   "source": [
    "basename = spam.txt \\\n",
    "dirname = C:\\bacon\\eggs\\"
   ]
  },
  {
   "cell_type": "markdown",
   "id": "de330633",
   "metadata": {},
   "source": [
    "### 6. What are the three “mode” arguments that can be passed to the open() function?"
   ]
  },
  {
   "cell_type": "markdown",
   "id": "1113663f",
   "metadata": {},
   "source": [
    "#### 'r'       open for reading (default) \\\n",
    "#### 'w'       open for writing, truncating the file first \\\n",
    "#### 'x'       create a new file and open it for writing"
   ]
  },
  {
   "cell_type": "markdown",
   "id": "9c42224c",
   "metadata": {},
   "source": [
    "### 7. What happens if an existing file is opened in write mode?"
   ]
  },
  {
   "cell_type": "markdown",
   "id": "4420c72f",
   "metadata": {},
   "source": [
    "If a file with the same name already exists, its contents are discarded and the file is treated as a new empty file"
   ]
  },
  {
   "cell_type": "markdown",
   "id": "9f5c45c2",
   "metadata": {},
   "source": [
    "### 8. How do you tell the difference between read() and readlines()?"
   ]
  },
  {
   "cell_type": "markdown",
   "id": "0271486a",
   "metadata": {},
   "source": [
    "Read():- Returns the read bytes in the form of a string. Reads n bytes; if n is not specified, then reads the entire file. \\\n",
    "Readline(): Reads a line of the file and returns in the form of a string. For specified n, reads at most n bytes. readline() function does not read more than one line at a time; even if n exceeds, it reads only one line. Readline() function reads a line of the file and returns it in the string. It takes an integer value n as a parameter to read the number of characters read at a time. Readline() method is very efficient in reading the data from a very large file because it fetches the data line by line and returns and prints on the screen. Readline() returns the next line of the file, which contains a newline character in the end. Also, if the end of the file is reached, it will return an empty string."
   ]
  },
  {
   "cell_type": "markdown",
   "id": "04d7ef3f",
   "metadata": {},
   "source": [
    "### 9. What data structure does a shelf value resemble?"
   ]
  },
  {
   "cell_type": "markdown",
   "id": "dc3858e6",
   "metadata": {},
   "source": [
    "A shelf value resembles a dictionary value; it has keys and values, along with keys() and values() methods that work similarly to the dictionary methods of the same names."
   ]
  },
  {
   "cell_type": "code",
   "execution_count": null,
   "id": "c4ab5226",
   "metadata": {},
   "outputs": [],
   "source": []
  }
 ],
 "metadata": {
  "kernelspec": {
   "display_name": "Python 3 (ipykernel)",
   "language": "python",
   "name": "python3"
  },
  "language_info": {
   "codemirror_mode": {
    "name": "ipython",
    "version": 3
   },
   "file_extension": ".py",
   "mimetype": "text/x-python",
   "name": "python",
   "nbconvert_exporter": "python",
   "pygments_lexer": "ipython3",
   "version": "3.8.10"
  }
 },
 "nbformat": 4,
 "nbformat_minor": 5
}
