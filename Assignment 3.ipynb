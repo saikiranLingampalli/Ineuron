{
 "cells": [
  {
   "cell_type": "markdown",
   "id": "f8fda98c",
   "metadata": {},
   "source": [
    "### 1. Why are functions advantageous to have in your programs?"
   ]
  },
  {
   "cell_type": "markdown",
   "id": "284a1509",
   "metadata": {},
   "source": [
    "Function makes code easier to read and update."
   ]
  },
  {
   "cell_type": "markdown",
   "id": "79639275",
   "metadata": {},
   "source": [
    "### 2. When does the code in a function run: when it's specified or when it's called?"
   ]
  },
  {
   "cell_type": "markdown",
   "id": "6e1b43c0",
   "metadata": {},
   "source": [
    "when the function called the code will execute in that function"
   ]
  },
  {
   "cell_type": "markdown",
   "id": "82df0e3d",
   "metadata": {},
   "source": [
    "### 3. What statement creates a function? "
   ]
  },
  {
   "cell_type": "markdown",
   "id": "123be564",
   "metadata": {},
   "source": [
    "**def** is the statement creates a function"
   ]
  },
  {
   "cell_type": "markdown",
   "id": "c89d6424",
   "metadata": {},
   "source": [
    "### 4. What is the difference between a function and a function call?"
   ]
  },
  {
   "cell_type": "markdown",
   "id": "26b0a1b6",
   "metadata": {},
   "source": [
    "Function consists a def statement and code will be written in def clause\n",
    "Function call is what moves the program execution into the function, and the function call evaluates to the function's return value."
   ]
  },
  {
   "cell_type": "markdown",
   "id": "78daea65",
   "metadata": {},
   "source": [
    "### 5. How many global scopes are there in a Python program? How many local scopes?"
   ]
  },
  {
   "cell_type": "markdown",
   "id": "fd0d94a7",
   "metadata": {},
   "source": [
    "There is one global scope and one local scope"
   ]
  },
  {
   "cell_type": "markdown",
   "id": "8250e07a",
   "metadata": {},
   "source": [
    "### 6. What happens to variables in a local scope when the function call returns?"
   ]
  },
  {
   "cell_type": "markdown",
   "id": "8cac4ecc",
   "metadata": {},
   "source": [
    "When a function returns, the local scope is destroyed, and all the variables in it are forgotten."
   ]
  },
  {
   "cell_type": "markdown",
   "id": "bef2da9c",
   "metadata": {},
   "source": [
    "### 7. What is the concept of a return value? Is it possible to have a return value in an expression? "
   ]
  },
  {
   "cell_type": "markdown",
   "id": "502af99e",
   "metadata": {},
   "source": [
    "Python return statement is inside a function statement . yes it is possible to return value expression"
   ]
  },
  {
   "cell_type": "markdown",
   "id": "eb5c85f7",
   "metadata": {},
   "source": [
    "### 8. If a function does not have a return statement, what is the return value of a call to that function?"
   ]
  },
  {
   "cell_type": "markdown",
   "id": "bad39322",
   "metadata": {},
   "source": [
    "The return value of a call to that function is ****None****"
   ]
  },
  {
   "cell_type": "markdown",
   "id": "9e55bdca",
   "metadata": {},
   "source": [
    "### 9. How do you make a function variable refer to the global variable?"
   ]
  },
  {
   "cell_type": "markdown",
   "id": "45d4036b",
   "metadata": {},
   "source": [
    "There will variable or statement in function which refers to global variable"
   ]
  },
  {
   "cell_type": "markdown",
   "id": "af067743",
   "metadata": {},
   "source": [
    "### 10. What is the data type of None? "
   ]
  },
  {
   "cell_type": "code",
   "execution_count": 1,
   "id": "446de29e",
   "metadata": {},
   "outputs": [
    {
     "data": {
      "text/plain": [
       "NoneType"
      ]
     },
     "execution_count": 1,
     "metadata": {},
     "output_type": "execute_result"
    }
   ],
   "source": [
    "type(None)"
   ]
  },
  {
   "cell_type": "markdown",
   "id": "d46b2a60",
   "metadata": {},
   "source": [
    "### 11. What does the sentence import areallyourpetsnamederic do? "
   ]
  },
  {
   "cell_type": "code",
   "execution_count": 2,
   "id": "2f68911b",
   "metadata": {},
   "outputs": [
    {
     "ename": "ModuleNotFoundError",
     "evalue": "No module named 'areallyourpetsnamederic'",
     "output_type": "error",
     "traceback": [
      "\u001b[0;31m---------------------------------------------------------------------------\u001b[0m",
      "\u001b[0;31mModuleNotFoundError\u001b[0m                       Traceback (most recent call last)",
      "Input \u001b[0;32mIn [2]\u001b[0m, in \u001b[0;36m<cell line: 1>\u001b[0;34m()\u001b[0m\n\u001b[0;32m----> 1\u001b[0m \u001b[38;5;28;01mimport\u001b[39;00m \u001b[38;5;21;01mareallyourpetsnamederic\u001b[39;00m\n",
      "\u001b[0;31mModuleNotFoundError\u001b[0m: No module named 'areallyourpetsnamederic'"
     ]
    }
   ],
   "source": [
    "import areallyourpetsnamederic"
   ]
  },
  {
   "cell_type": "markdown",
   "id": "5be38f9a",
   "metadata": {},
   "source": [
    "### 12. If you had a bacon() feature in a spam module, what would you call it after importing spam? "
   ]
  },
  {
   "cell_type": "markdown",
   "id": "4cb4ea43",
   "metadata": {},
   "source": [
    "**import spam** \\\n",
    "**spam.bacon()**"
   ]
  },
  {
   "cell_type": "markdown",
   "id": "3754866b",
   "metadata": {},
   "source": [
    "### 13. What can you do to save a programme from crashing if it encounters an error?"
   ]
  },
  {
   "cell_type": "markdown",
   "id": "a8667d6f",
   "metadata": {},
   "source": [
    "We will use **try** **except** block"
   ]
  },
  {
   "cell_type": "markdown",
   "id": "7e20c983",
   "metadata": {},
   "source": [
    "### 14. What is the purpose of the try clause? What is the purpose of the except clause?"
   ]
  },
  {
   "cell_type": "markdown",
   "id": "28ac589b",
   "metadata": {},
   "source": [
    "The block code which is written in try clause will execute first and if an exception occurs it will move to except block, there if an issue or error occurs it will print the exco"
   ]
  }
 ],
 "metadata": {
  "kernelspec": {
   "display_name": "Python 3 (ipykernel)",
   "language": "python",
   "name": "python3"
  },
  "language_info": {
   "codemirror_mode": {
    "name": "ipython",
    "version": 3
   },
   "file_extension": ".py",
   "mimetype": "text/x-python",
   "name": "python",
   "nbconvert_exporter": "python",
   "pygments_lexer": "ipython3",
   "version": "3.8.10"
  }
 },
 "nbformat": 4,
 "nbformat_minor": 5
}
