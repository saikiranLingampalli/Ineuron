{
 "cells": [
  {
   "cell_type": "markdown",
   "id": "5fea23ca",
   "metadata": {},
   "source": [
    "###  1.What are the two values of the Boolean data type? How do you write them? "
   ]
  },
  {
   "cell_type": "markdown",
   "id": "2674b07c",
   "metadata": {},
   "source": [
    "The two boolean data type are True and False"
   ]
  },
  {
   "cell_type": "code",
   "execution_count": 26,
   "id": "27a146e2",
   "metadata": {},
   "outputs": [
    {
     "name": "stdout",
     "output_type": "stream",
     "text": [
      "<class 'bool'>\n",
      "<class 'bool'>\n"
     ]
    }
   ],
   "source": [
    "a = True\n",
    "b = False\n",
    "print(type(a))\n",
    "print(type(b))"
   ]
  },
  {
   "cell_type": "markdown",
   "id": "f191f612",
   "metadata": {},
   "source": [
    "### 2. What are the three different types of Boolean operators? "
   ]
  },
  {
   "cell_type": "markdown",
   "id": "b20a974b",
   "metadata": {},
   "source": [
    "and or not"
   ]
  },
  {
   "cell_type": "markdown",
   "id": "1fc94dbb",
   "metadata": {},
   "source": [
    "### 3. Make a list of each Boolean operator's truth tables (i.e. every possible combination of Boolean values for the operator and what it evaluate )."
   ]
  },
  {
   "cell_type": "code",
   "execution_count": 27,
   "id": "5fc388ed",
   "metadata": {},
   "outputs": [
    {
     "name": "stdout",
     "output_type": "stream",
     "text": [
      "and operator\n",
      "False and False  ===>  False\n",
      "True and False   ===>  False\n",
      "True and True    ===>  True\n",
      "False and True   ===>  False\n",
      "\n",
      "or operator\n",
      "False or False   ===>  False\n",
      "True or False    ===>  True\n",
      "True or True     ===>  True\n",
      "False or True    ===>  True\n",
      "\n",
      "not operator\n",
      "not True   ===>  False\n",
      "not False  ===>  True\n"
     ]
    }
   ],
   "source": [
    "print(\"and operator\")\n",
    "print(\"False and False  ===> \", False and False)\n",
    "print(\"True and False   ===> \", True and False)\n",
    "print(\"True and True    ===> \", True and True)\n",
    "print(\"False and True   ===> \", False and True)\n",
    "print()\n",
    "print(\"or operator\")\n",
    "print(\"False or False   ===> \", False or False)\n",
    "print(\"True or False    ===> \", True or False)\n",
    "print(\"True or True     ===> \", True or True)\n",
    "print(\"False or True    ===> \", False or True)\n",
    "print()\n",
    "print(\"not operator\")\n",
    "print(\"not True   ===> \",not True)\n",
    "print(\"not False  ===> \",not False)"
   ]
  },
  {
   "cell_type": "markdown",
   "id": "a77721a4",
   "metadata": {},
   "source": [
    "### 4. What are the values of the following expressions? \\\n",
    "### (5 > 4) and (3 == 5)\n",
    "### not (5 > 4)\n",
    "### (5 > 4) or (3 == 5)\n",
    "### not ((5 > 4) or (3 == 5))\n",
    "### (True and True) and (True == False)\n",
    "### (not False) or (not True)"
   ]
  },
  {
   "cell_type": "code",
   "execution_count": 28,
   "id": "7154db19",
   "metadata": {},
   "outputs": [
    {
     "name": "stdout",
     "output_type": "stream",
     "text": [
      "False\n",
      "False\n",
      "True\n",
      "False\n",
      "False\n",
      "True\n"
     ]
    }
   ],
   "source": [
    "print((5 > 4) and (3 == 5))\n",
    "print(not (5 > 4))\n",
    "print((5 > 4) or (3 == 5))\n",
    "print(not ((5 > 4) or (3 == 5)))\n",
    "print((True and True) and (True == False))\n",
    "print((not False) or (not True))"
   ]
  },
  {
   "cell_type": "markdown",
   "id": "d538e53e",
   "metadata": {},
   "source": [
    "### 5. What are the six comparison operators?"
   ]
  },
  {
   "cell_type": "code",
   "execution_count": 29,
   "id": "22c4365a",
   "metadata": {},
   "outputs": [
    {
     "name": "stdout",
     "output_type": "stream",
     "text": [
      "equal operator              ===> ==\n",
      "not equal operator          ===> !=\n",
      "greater than operator       ===> >\n",
      "less than operator          ===> <\n",
      "greater than equal operator ===> >=\n",
      "less than equal operator    ===> <=\n"
     ]
    }
   ],
   "source": [
    "print(\"equal operator              ===>\",\"==\")\n",
    "print(\"not equal operator          ===>\",\"!=\")\n",
    "print(\"greater than operator       ===>\", \">\")\n",
    "print(\"less than operator          ===>\",\"<\")\n",
    "print(\"greater than equal operator ===>\",\">=\")\n",
    "print(\"less than equal operator    ===>\",\"<=\")"
   ]
  },
  {
   "cell_type": "markdown",
   "id": "b9e28bd5",
   "metadata": {},
   "source": [
    "### 6. How do you tell the difference between the equal to and assignment operators?Describe a condition and when you would use one. "
   ]
  },
  {
   "cell_type": "markdown",
   "id": "2f3b5e1a",
   "metadata": {},
   "source": [
    "#### equal operator will be used check the both the variable are of same data type and same value\n",
    "####  assignment operator is assigning the value to variable"
   ]
  },
  {
   "cell_type": "markdown",
   "id": "c272be66",
   "metadata": {},
   "source": [
    "### 7. Identify the three blocks in this code:\n",
    "spam = 0 \\\n",
    "if spam == 10: \\\n",
    "print('eggs') \\\n",
    "if spam > 5: \\\n",
    "print('bacon') \\\n",
    "else: \\\n",
    "print('ham') \\\n",
    "print('spam') \\\n",
    "print('spam') \\"
   ]
  },
  {
   "cell_type": "markdown",
   "id": "a5ed87c1",
   "metadata": {},
   "source": [
    "two **if** blocks and else **block**"
   ]
  },
  {
   "cell_type": "markdown",
   "id": "7a1235d1",
   "metadata": {},
   "source": [
    "### 8. Write code that prints Hello if 1 is stored in spam, prints Howdy if 2 is stored in spam, and prints Greetings! if anything else is stored in spam."
   ]
  },
  {
   "cell_type": "code",
   "execution_count": 30,
   "id": "81d2fe3e",
   "metadata": {},
   "outputs": [
    {
     "name": "stdout",
     "output_type": "stream",
     "text": [
      "1\n",
      "Hello\n"
     ]
    }
   ],
   "source": [
    "spam = int(input())\n",
    "if spam == 1:\n",
    "    print(\"Hello\")\n",
    "elif spam == 2:\n",
    "    print(\"Howdy\")\n",
    "else:\n",
    "    print(\"Greetings\")"
   ]
  },
  {
   "cell_type": "markdown",
   "id": "517870f4",
   "metadata": {},
   "source": [
    "### 9.If your programme is stuck in an endless loop, what keys you’ll press?"
   ]
  },
  {
   "cell_type": "markdown",
   "id": "e1dc5efa",
   "metadata": {},
   "source": [
    "### Ctrl + C"
   ]
  },
  {
   "cell_type": "markdown",
   "id": "3f18842d",
   "metadata": {},
   "source": [
    "### 10. How can you tell the difference between break and continue?"
   ]
  },
  {
   "cell_type": "markdown",
   "id": "f902ab14",
   "metadata": {},
   "source": [
    "#### Difference between both the statements is that when break keyword comes, it terminates the execution of the current loop and passes the control over the next loop or main body, whereas when continue keyword is encountered, it skips the current iteration and executes the very next iteration in the loop"
   ]
  },
  {
   "cell_type": "markdown",
   "id": "317c49ff",
   "metadata": {},
   "source": [
    "### 11. In a for loop, what is the difference between range(10), range(0, 10), and range(0, 10, 1)?"
   ]
  },
  {
   "cell_type": "markdown",
   "id": "767827f6",
   "metadata": {},
   "source": [
    "**range(10)** will be give the number ranging from 0,10 and **range(0,10)** will start the number ranging from start position to end position number \\\n",
    "**range(0,10,1)** will take interval as **1** between 0 and 10\n",
    "\n",
    "But the three **range** methods are same"
   ]
  },
  {
   "cell_type": "markdown",
   "id": "0ba4f876",
   "metadata": {},
   "source": [
    "### 12. Write a short program that prints the numbers 1 to 10 using a for loop. Then write an equivalent program that prints the numbers 1 to 10 using a while loop."
   ]
  },
  {
   "cell_type": "code",
   "execution_count": 31,
   "id": "914a270e",
   "metadata": {},
   "outputs": [
    {
     "name": "stdout",
     "output_type": "stream",
     "text": [
      "1\n",
      "2\n",
      "3\n",
      "4\n",
      "5\n",
      "6\n",
      "7\n",
      "8\n",
      "9\n",
      "10\n"
     ]
    }
   ],
   "source": [
    "for i in range(1, 11):\n",
    "    print(i)"
   ]
  },
  {
   "cell_type": "code",
   "execution_count": 32,
   "id": "e7a1a606",
   "metadata": {},
   "outputs": [
    {
     "name": "stdout",
     "output_type": "stream",
     "text": [
      "1\n",
      "2\n",
      "3\n",
      "4\n",
      "5\n",
      "6\n",
      "7\n",
      "8\n",
      "9\n",
      "10\n"
     ]
    }
   ],
   "source": [
    "i = 1\n",
    "while True:\n",
    "    print(i)\n",
    "    if i == 10:\n",
    "        break\n",
    "    i = i+1\n"
   ]
  },
  {
   "cell_type": "markdown",
   "id": "5cde4dfc",
   "metadata": {},
   "source": [
    "### 13. If you had a function named bacon() inside a module named spam, how would you call it after importing spam?"
   ]
  },
  {
   "cell_type": "markdown",
   "id": "46492433",
   "metadata": {},
   "source": [
    "from spam import bacon"
   ]
  },
  {
   "cell_type": "code",
   "execution_count": null,
   "id": "65a374a1",
   "metadata": {},
   "outputs": [],
   "source": []
  }
 ],
 "metadata": {
  "kernelspec": {
   "display_name": "Python 3 (ipykernel)",
   "language": "python",
   "name": "python3"
  },
  "language_info": {
   "codemirror_mode": {
    "name": "ipython",
    "version": 3
   },
   "file_extension": ".py",
   "mimetype": "text/x-python",
   "name": "python",
   "nbconvert_exporter": "python",
   "pygments_lexer": "ipython3",
   "version": "3.8.10"
  }
 },
 "nbformat": 4,
 "nbformat_minor": 5
}
