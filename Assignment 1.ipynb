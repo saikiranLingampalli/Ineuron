{
 "cells": [
  {
   "cell_type": "markdown",
   "id": "d6a36d76",
   "metadata": {},
   "source": [
    "### 1. In the below elements which of them are values or an expression? eg:- values can be integer or string and expressions will be mathematical operators."
   ]
  },
  {
   "cell_type": "markdown",
   "id": "887511a8",
   "metadata": {},
   "source": [
    " * = expression \\\n",
    "'hello' = string \\\n",
    " -87.8 = float \\\n",
    " - = expression \\\n",
    " / expression \\\n",
    " + = expression \\\n",
    " 6 = integer"
   ]
  },
  {
   "cell_type": "markdown",
   "id": "dcbc1622",
   "metadata": {},
   "source": [
    "### 2. What is the difference between string and variable?"
   ]
  },
  {
   "cell_type": "markdown",
   "id": "7249f777",
   "metadata": {},
   "source": [
    "String is series or sequence of characters with combination of letters and numerics and variable is where the information is stored "
   ]
  },
  {
   "cell_type": "markdown",
   "id": "647649d7",
   "metadata": {},
   "source": [
    "### 3. Describe three different data types."
   ]
  },
  {
   "cell_type": "markdown",
   "id": "072e487d",
   "metadata": {},
   "source": [
    "Text\n",
    "Numeric\n",
    "Set\n",
    "Bool\n",
    "Sequence\n",
    "Mapping\n",
    "Binary\n",
    "None"
   ]
  },
  {
   "cell_type": "markdown",
   "id": "864407cf",
   "metadata": {},
   "source": [
    "### 4. What is an expression made up of? What do all expressions do?"
   ]
  },
  {
   "cell_type": "markdown",
   "id": "2a1d8db4",
   "metadata": {},
   "source": [
    "An expression is a combination of operators and operands that is interpreted to produce some other value."
   ]
  },
  {
   "cell_type": "markdown",
   "id": "46bf5b71",
   "metadata": {},
   "source": [
    "### 5. This assignment statements, like spam = 10. What is the difference between an expression and a statement?"
   ]
  },
  {
   "cell_type": "markdown",
   "id": "bf78d5fc",
   "metadata": {},
   "source": [
    "Expression are representation of value , where statement is creating a variable or displaying a value"
   ]
  },
  {
   "cell_type": "markdown",
   "id": "0c94a157",
   "metadata": {},
   "source": [
    "### 6. After running the following code, what does the variable bacon contain? \\\n",
    "bacon = 22\n",
    "bacon + 1"
   ]
  },
  {
   "cell_type": "code",
   "execution_count": 1,
   "id": "265ec46f",
   "metadata": {},
   "outputs": [
    {
     "data": {
      "text/plain": [
       "22"
      ]
     },
     "execution_count": 1,
     "metadata": {},
     "output_type": "execute_result"
    }
   ],
   "source": [
    "bacon = 22\n",
    "bacon + 1\n",
    "bacon\n"
   ]
  },
  {
   "cell_type": "markdown",
   "id": "81d7e94a",
   "metadata": {},
   "source": [
    "### 7. What should the values of the following two terms be? \\\n",
    "'spam' + 'spamspam' \\\n",
    "'spam' * 3"
   ]
  },
  {
   "cell_type": "code",
   "execution_count": 2,
   "id": "aa7fb259",
   "metadata": {},
   "outputs": [
    {
     "data": {
      "text/plain": [
       "'spamspamspam'"
      ]
     },
     "execution_count": 2,
     "metadata": {},
     "output_type": "execute_result"
    }
   ],
   "source": [
    "'spam' + 'spamspam'\n",
    "'spam' * 3"
   ]
  },
  {
   "cell_type": "markdown",
   "id": "edb3cd1a",
   "metadata": {},
   "source": [
    "### 8. Why is eggs a valid variable name while 100 is invalid?"
   ]
  },
  {
   "cell_type": "markdown",
   "id": "490d0dcd",
   "metadata": {},
   "source": [
    "eggs is string (which means series of character) while 100 is a integer and it is assigned to variable"
   ]
  },
  {
   "cell_type": "markdown",
   "id": "14c9b8f0",
   "metadata": {},
   "source": [
    "### 9. What three functions can be used to get the integer, floating-point number, or string version of a value?"
   ]
  },
  {
   "cell_type": "markdown",
   "id": "140c4d7d",
   "metadata": {},
   "source": [
    "integer = int\n",
    "floating-point number = float\n",
    "string = str"
   ]
  },
  {
   "cell_type": "markdown",
   "id": "e0a892e9",
   "metadata": {},
   "source": [
    "### 10. Why does this expression cause an error? How can you fix it?\n",
    "'I have eaten ' + 99 + ' burritos.'"
   ]
  },
  {
   "cell_type": "code",
   "execution_count": 3,
   "id": "168cc32b",
   "metadata": {},
   "outputs": [
    {
     "ename": "TypeError",
     "evalue": "can only concatenate str (not \"int\") to str",
     "output_type": "error",
     "traceback": [
      "\u001b[0;31m---------------------------------------------------------------------------\u001b[0m",
      "\u001b[0;31mTypeError\u001b[0m                                 Traceback (most recent call last)",
      "Input \u001b[0;32mIn [3]\u001b[0m, in \u001b[0;36m<cell line: 1>\u001b[0;34m()\u001b[0m\n\u001b[0;32m----> 1\u001b[0m \u001b[38;5;124;43m'\u001b[39;49m\u001b[38;5;124;43mI have eaten \u001b[39;49m\u001b[38;5;124;43m'\u001b[39;49m\u001b[43m \u001b[49m\u001b[38;5;241;43m+\u001b[39;49m\u001b[43m \u001b[49m\u001b[38;5;241;43m99\u001b[39;49m \u001b[38;5;241m+\u001b[39m \u001b[38;5;124m'\u001b[39m\u001b[38;5;124m burritos.\u001b[39m\u001b[38;5;124m'\u001b[39m\n",
      "\u001b[0;31mTypeError\u001b[0m: can only concatenate str (not \"int\") to str"
     ]
    }
   ],
   "source": [
    "'I have eaten ' + 99 + ' burritos.'"
   ]
  },
  {
   "cell_type": "markdown",
   "id": "b92b762a",
   "metadata": {},
   "source": [
    "We can fix this error by converting 99 to string format"
   ]
  },
  {
   "cell_type": "code",
   "execution_count": 4,
   "id": "19c89a8e",
   "metadata": {},
   "outputs": [
    {
     "data": {
      "text/plain": [
       "'I have eaten 99 burritos.'"
      ]
     },
     "execution_count": 4,
     "metadata": {},
     "output_type": "execute_result"
    }
   ],
   "source": [
    "'I have eaten ' + '99' + ' burritos.'"
   ]
  },
  {
   "cell_type": "code",
   "execution_count": null,
   "id": "e41193a6",
   "metadata": {},
   "outputs": [],
   "source": []
  }
 ],
 "metadata": {
  "kernelspec": {
   "display_name": "Python 3 (ipykernel)",
   "language": "python",
   "name": "python3"
  },
  "language_info": {
   "codemirror_mode": {
    "name": "ipython",
    "version": 3
   },
   "file_extension": ".py",
   "mimetype": "text/x-python",
   "name": "python",
   "nbconvert_exporter": "python",
   "pygments_lexer": "ipython3",
   "version": "3.8.10"
  }
 },
 "nbformat": 4,
 "nbformat_minor": 5
}
